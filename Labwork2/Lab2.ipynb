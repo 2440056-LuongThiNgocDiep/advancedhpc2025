{
  "nbformat": 4,
  "nbformat_minor": 0,
  "metadata": {
    "colab": {
      "provenance": [],
      "gpuType": "T4"
    },
    "kernelspec": {
      "name": "python3",
      "display_name": "Python 3"
    },
    "language_info": {
      "name": "python"
    },
    "accelerator": "GPU"
  },
  "cells": [
    {
      "cell_type": "code",
      "execution_count": 1,
      "metadata": {
        "id": "CBD-KYLHogFT",
        "colab": {
          "base_uri": "https://localhost:8080/"
        },
        "outputId": "057147e2-75dd-4d33-9bba-6a73f3cf26cc"
      },
      "outputs": [
        {
          "output_type": "stream",
          "name": "stdout",
          "text": [
            "Requirement already satisfied: numba in /usr/local/lib/python3.12/dist-packages (0.60.0)\n",
            "Requirement already satisfied: llvmlite<0.44,>=0.43.0dev0 in /usr/local/lib/python3.12/dist-packages (from numba) (0.43.0)\n",
            "Requirement already satisfied: numpy<2.1,>=1.22 in /usr/local/lib/python3.12/dist-packages (from numba) (2.0.2)\n"
          ]
        }
      ],
      "source": [
        "!pip install numba\n"
      ]
    },
    {
      "cell_type": "code",
      "source": [
        "from numba import cuda\n",
        "device = cuda.get_current_device()\n",
        "print(\"Device name:\", device.name.decode(\"utf-8\"))\n",
        "cuda.detect()\n"
      ],
      "metadata": {
        "colab": {
          "base_uri": "https://localhost:8080/"
        },
        "id": "7vCXFPUDOLYq",
        "outputId": "e7a53561-848f-4071-abaa-a3c3612b478a"
      },
      "execution_count": 2,
      "outputs": [
        {
          "output_type": "stream",
          "name": "stdout",
          "text": [
            "Device name: Tesla T4\n",
            "Found 1 CUDA devices\n",
            "id 0             b'Tesla T4'                              [SUPPORTED]\n",
            "                      Compute Capability: 7.5\n",
            "                           PCI Device ID: 4\n",
            "                              PCI Bus ID: 0\n",
            "                                    UUID: GPU-1b0d8a5d-ff66-c69c-4872-755530c62622\n",
            "                                Watchdog: Disabled\n",
            "             FP32/FP64 Performance Ratio: 32\n",
            "Summary:\n",
            "\t1/1 devices are supported\n"
          ]
        },
        {
          "output_type": "execute_result",
          "data": {
            "text/plain": [
              "True"
            ]
          },
          "metadata": {},
          "execution_count": 2
        }
      ]
    },
    {
      "cell_type": "code",
      "source": [
        "device = cuda.get_current_device()\n",
        "\n",
        "print(\"Multiprocessor Count:\", device.MULTIPROCESSOR_COUNT)\n",
        "print(\"Max threads per block:\", device.MAX_THREADS_PER_BLOCK)\n",
        "\n",
        "def get_total_cores(device):\n",
        "    mapping = {\n",
        "        (7, 5): 64,\n",
        "        (7, 0): 64,\n",
        "        (6, 1): 128,\n",
        "        (6, 0): 64,\n",
        "        (5, 0): 128,\n",
        "        (5, 2): 128,\n",
        "        (3, 0): 192,\n",
        "        (3, 5): 192,\n",
        "        (3, 7): 192,\n",
        "    }\n",
        "    cores_sm = mapping.get(device.compute_capability, None)\n",
        "    if cores_sm:\n",
        "        return device.MULTIPROCESSOR_COUNT * cores_sm\n",
        "    return None\n",
        "\n",
        "total_cores = get_total_cores(device)\n",
        "if total_cores:\n",
        "    print(\"Total CUDA Cores:\", total_cores)\n",
        "else:\n",
        "    print(\"Unknown CUDA cores for this compute capability.\")\n",
        "\n",
        "print(\"Compute Capability:\", device.compute_capability)\n"
      ],
      "metadata": {
        "colab": {
          "base_uri": "https://localhost:8080/"
        },
        "id": "wTFg21xLQVjD",
        "outputId": "e61bb1e4-bc58-4c7d-9994-b32d6b618ea8"
      },
      "execution_count": 21,
      "outputs": [
        {
          "output_type": "stream",
          "name": "stdout",
          "text": [
            "Multiprocessor Count: 40\n",
            "Max threads per block: 1024\n",
            "Total CUDA Cores: 2560\n",
            "Compute Capability: (7, 5)\n"
          ]
        }
      ]
    },
    {
      "cell_type": "code",
      "source": [
        "free_bytes, total_bytes = cuda.current_context().get_memory_info()\n",
        "print(f\"Total Memory: {total_bytes / (1024**3):.2f} GB\")\n",
        "print(f\"Free Memory: {free_bytes / (1024**3):.2f} GB\")"
      ],
      "metadata": {
        "colab": {
          "base_uri": "https://localhost:8080/"
        },
        "id": "UcylG503Rz5R",
        "outputId": "b5d1242d-aeea-4388-d1ce-ec80366979ca"
      },
      "execution_count": 13,
      "outputs": [
        {
          "output_type": "stream",
          "name": "stdout",
          "text": [
            "Total CUDA Cores: 2560\n",
            "Total Memory: 14.74 GB\n",
            "Free Memory: 14.64 GB\n"
          ]
        }
      ]
    }
  ]
}